{
 "cells": [
  {
   "cell_type": "code",
   "execution_count": 1,
   "metadata": {},
   "outputs": [
    {
     "data": {
      "text/plain": [
       "quantile_test (generic function with 1 method)"
      ]
     },
     "metadata": {},
     "output_type": "display_data"
    }
   ],
   "source": [
    "import Distributions.quantile, Distributions.DiscreteNonParametric\n",
    "\n",
    "\"Compute the τ-th quantile of v(X) when X ∼ ϕ and v = sort(v).\"\n",
    "function quantile(τ, v, ϕ)\n",
    "    for (i, v_value) in enumerate(v)\n",
    "        p = sum(ϕ[1:i])  # sum all ϕ[j] s.t. v[j] ≤ v_value\n",
    "        if p ≥ τ         # exit and return v_value if prob ≥ τ\n",
    "            return v_value\n",
    "        end\n",
    "    end\n",
    "\n",
    "end\n",
    "\n",
    "\"For each i, compute the τ-th quantile of v(Y) when Y ∼ P(i, ⋅)\"\n",
    "function R(τ, v, P)\n",
    "    return [quantile(τ, v, P[i, :]) for i in eachindex(v)]\n",
    "end\n",
    "\n",
    "\n",
    "function quantile_test(τ)\n",
    "    ϕ = [0.1, 0.2, 0.7]\n",
    "    v = [10, 20, 30]\n",
    "\n",
    "    d = DiscreteNonParametric(v, ϕ)\n",
    "    return quantile(τ, v, ϕ), quantile(d, τ)\n",
    "end"
   ]
  },
  {
   "cell_type": "code",
   "execution_count": 4,
   "metadata": {},
   "outputs": [
    {
     "data": {
      "text/plain": [
       "plot_main (generic function with 1 method)"
      ]
     },
     "metadata": {},
     "output_type": "display_data"
    }
   ],
   "source": [
    "\"\"\"\n",
    "Job search with Markov wage draws and quantile preferences.\n",
    "\n",
    "\"\"\"\n",
    "\n",
    "using QuantEcon\n",
    "#include(\"quantile_function.jl\")\n",
    "\n",
    "\"Creates an instance of the job search model.\"\n",
    "function create_markov_js_model(;\n",
    "        n=100,       # wage grid size\n",
    "        ρ=0.9,       # wage persistence\n",
    "        ν=0.2,       # wage volatility\n",
    "        β=0.98,      # discount factor\n",
    "        c=1.0,       # unemployment compensation\n",
    "        τ=0.5        # quantile parameter\n",
    "    )\n",
    "    mc = tauchen(n, ρ, ν)\n",
    "    w_vals, P = exp.(mc.state_values), mc.p\n",
    "    return (; n, w_vals, P, β, c, τ)\n",
    "end\n",
    "\n",
    "\"\"\"\n",
    "The policy operator \n",
    "\n",
    "    (T_σ v)(w) = σ(w) (w / (1-β)) + (1 - σ(w))(c + β (R_τ v)(w))\n",
    "\n",
    "\"\"\"\n",
    "function T_σ(v, σ, model)\n",
    "    (; n, w_vals, P, β, c, τ) = model\n",
    "    h = c .+ β * R(τ, v, P)\n",
    "    e = w_vals ./ (1 - β)\n",
    "    return σ .* e + (1 .- σ) .* h\n",
    "end\n",
    "\n",
    "\" Get a v-greedy policy.\"\n",
    "function get_greedy(v, model)\n",
    "    (; n, w_vals, P, β, c, τ) = model\n",
    "    σ = w_vals / (1 - β) .≥ c .+ β * R(τ, v, P)\n",
    "    return σ\n",
    "end\n",
    "\n",
    "\n",
    "\"Optimistic policy iteration routine.\"\n",
    "function optimistic_policy_iteration(model; tolerance=1e-5, m=100)\n",
    "    (; n, w_vals, P, β, c, τ) = model\n",
    "    v = ones(n)\n",
    "    error = tolerance + 1\n",
    "    while error > tolerance\n",
    "        last_v = v\n",
    "        σ = get_greedy(v, model)\n",
    "        for i in 1:m\n",
    "            v = T_σ(v, σ, model)\n",
    "        end\n",
    "        error = maximum(abs.(v - last_v))\n",
    "        println(\"OPI current error = $error\")\n",
    "    end\n",
    "    return v, get_greedy(v, model)\n",
    "end\n",
    "\n",
    "\n",
    "\n",
    "# == Plots == #\n",
    "\n",
    "using PyPlot\n",
    "using LaTeXStrings\n",
    "PyPlot.matplotlib[:rc](\"text\", usetex=true) # allow tex rendering\n",
    "fontsize=16\n",
    "\n",
    "\n",
    "function plot_main(; tau_vals=(0.1, 0.25, 0.5, 0.6, 0.7, 0.8),\n",
    "                     savefig=false, \n",
    "                     figname=\"../figures/quantile_js.pdf\")\n",
    "\n",
    "    w_star_vals = zeros(length(tau_vals))\n",
    "\n",
    "    for (τ_idx, τ) in enumerate(tau_vals)\n",
    "        model = create_markov_js_model(τ=τ)\n",
    "        (; n, w_vals, P, β, c, τ) = model\n",
    "        v_star, σ_star = optimistic_policy_iteration(model)\n",
    "        for i in 1:n\n",
    "            if σ_star[i] > 0\n",
    "                w_star_vals[τ_idx] = w_vals[i]\n",
    "                break\n",
    "            end\n",
    "        end\n",
    "    end\n",
    "\n",
    "    model = create_markov_js_model()\n",
    "    (; n, w_vals, P, β, c, τ) = model\n",
    "    mc = MarkovChain(model.P)\n",
    "    s = stationary_distributions(mc)[1]\n",
    "\n",
    "    fig, ax = plt.subplots()\n",
    "    ax.plot(tau_vals, w_star_vals, \"k--\", lw=2, alpha=0.7, label=\"reservation wage\")\n",
    "    ax.barh(w_vals, 32 * s, alpha=0.05, align=\"center\")\n",
    "    ax.legend(frameon=false, fontsize=fontsize, loc=\"upper center\")\n",
    "    ax.set_xlabel(\"quantile\", fontsize=fontsize)\n",
    "    ax.set_ylabel(\"wages\", fontsize=fontsize)\n",
    "\n",
    "    plt.show()\n",
    "    if savefig\n",
    "        fig.savefig(figname)\n",
    "    end\n",
    "end\n",
    "\n"
   ]
  },
  {
   "cell_type": "code",
   "execution_count": 5,
   "metadata": {},
   "outputs": [
    {
     "name": "stdout",
     "output_type": "stream",
     "text": [
      "OPI current error = 197.04958104222322\n",
      "OPI current error = 32.41999066047552"
     ]
    },
    {
     "name": "stdout",
     "output_type": "stream",
     "text": [
      "\n",
      "OPI current error = 35.621274085824254\n"
     ]
    },
    {
     "name": "stdout",
     "output_type": "stream",
     "text": [
      "OPI current error = 34.1446640510786\n",
      "OPI current error = 31.3571903668605\n"
     ]
    },
    {
     "name": "stdout",
     "output_type": "stream",
     "text": [
      "OPI current error = 27.984260985215176\n",
      "OPI current error = 23.254898512652094"
     ]
    },
    {
     "name": "stdout",
     "output_type": "stream",
     "text": [
      "\n",
      "OPI current error = 16.591569430034014\n",
      "OPI current error = 7.09109988950496\n"
     ]
    },
    {
     "name": "stdout",
     "output_type": "stream",
     "text": [
      "OPI current error = 3.102226038720346e-6"
     ]
    },
    {
     "name": "stdout",
     "output_type": "stream",
     "text": [
      "\n",
      "OPI current error = 197.04958104222322\n",
      "OPI current error = 32.41999066047552\n"
     ]
    },
    {
     "name": "stdout",
     "output_type": "stream",
     "text": [
      "OPI current error = 29.678936943622382\n",
      "OPI current error = 29.093921296620483\n"
     ]
    },
    {
     "name": "stdout",
     "output_type": "stream",
     "text": [
      "OPI current error = 27.974814794615806\n",
      "OPI current error = 26.72531111677077\n"
     ]
    },
    {
     "name": "stdout",
     "output_type": "stream",
     "text": [
      "OPI current error = 25.39554124988487\n"
     ]
    },
    {
     "name": "stdout",
     "output_type": "stream",
     "text": [
      "OPI current error = 23.255076254919008"
     ]
    },
    {
     "name": "stdout",
     "output_type": "stream",
     "text": [
      "\n",
      "OPI current error = 20.92822560847147\n",
      "OPI current error = 18.39891195068428"
     ]
    },
    {
     "name": "stdout",
     "output_type": "stream",
     "text": [
      "\n",
      "OPI current error = 14.680917085664738\n",
      "OPI current error = 10.525484762612273"
     ]
    },
    {
     "name": "stdout",
     "output_type": "stream",
     "text": [
      "\n",
      "OPI current error = 5.881149036250456\n",
      "OPI current error = 9.59630597208161e-10\n"
     ]
    },
    {
     "name": "stdout",
     "output_type": "stream",
     "text": [
      "OPI current error = 197.04958104222322\n"
     ]
    },
    {
     "name": "stdout",
     "output_type": "stream",
     "text": [
      "OPI current error = 36.59694294236868"
     ]
    },
    {
     "name": "stdout",
     "output_type": "stream",
     "text": [
      "\n",
      "OPI current error = 0.676518038229375\n"
     ]
    },
    {
     "name": "stdout",
     "output_type": "stream",
     "text": [
      "OPI current error = 0.08971952178475817\n"
     ]
    },
    {
     "name": "stdout",
     "output_type": "stream",
     "text": [
      "OPI current error = 0.011898563134202789"
     ]
    },
    {
     "name": "stdout",
     "output_type": "stream",
     "text": [
      "\n",
      "OPI current error = 0.001577982158643465\n"
     ]
    },
    {
     "name": "stdout",
     "output_type": "stream",
     "text": [
      "OPI current error = 0.00020927129308034864\n",
      "OPI current error = 2.7753465943192168e-5"
     ]
    },
    {
     "name": "stdout",
     "output_type": "stream",
     "text": [
      "\n",
      "OPI current error = 3.6806523482368902e-6\n"
     ]
    },
    {
     "name": "stdout",
     "output_type": "stream",
     "text": [
      "OPI current error = 197.04958104222322"
     ]
    },
    {
     "name": "stdout",
     "output_type": "stream",
     "text": [
      "\n",
      "OPI current error = 51.40389833249005\n"
     ]
    },
    {
     "name": "stdout",
     "output_type": "stream",
     "text": [
      "OPI current error = 0.0"
     ]
    },
    {
     "name": "stdout",
     "output_type": "stream",
     "text": [
      "\n",
      "OPI current error = 197.04958104222322"
     ]
    },
    {
     "name": "stdout",
     "output_type": "stream",
     "text": [
      "\n",
      "OPI current error = 82.51356008425161"
     ]
    },
    {
     "name": "stdout",
     "output_type": "stream",
     "text": [
      "\n",
      "OPI current error = 0.0\n"
     ]
    },
    {
     "name": "stdout",
     "output_type": "stream",
     "text": [
      "OPI current error = 197.04958104222322"
     ]
    },
    {
     "name": "stdout",
     "output_type": "stream",
     "text": [
      "\n",
      "OPI current error = 133.14095588610522"
     ]
    },
    {
     "name": "stdout",
     "output_type": "stream",
     "text": [
      "\n",
      "OPI current error = 0.0\n"
     ]
    },
    {
     "name": "stderr",
     "output_type": "stream",
     "text": [
      "sys:1: UserWarning: Matplotlib is currently using agg, which is a non-GUI backend, so cannot show the figure.\r\n"
     ]
    }
   ],
   "source": [
    "plot_main()"
   ]
  },
  {
   "cell_type": "code",
   "execution_count": null,
   "metadata": {},
   "outputs": [],
   "source": []
  }
 ],
 "metadata": {
  "kernelspec": {
   "display_name": "Julia 1.9.1",
   "language": "julia",
   "name": "julia-1.9"
  },
  "language_info": {
   "file_extension": ".jl",
   "mimetype": "application/julia",
   "name": "julia",
   "version": "1.9.1"
  },
  "orig_nbformat": 4
 },
 "nbformat": 4,
 "nbformat_minor": 2
}
