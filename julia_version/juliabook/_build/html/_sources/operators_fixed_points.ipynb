{
 "cells": [
  {
   "cell_type": "markdown",
   "id": "273aca35",
   "metadata": {},
   "source": [
    "(Chapter 2: Operators and Fixed Points)=\n",
    "```{raw} html\n",
    "<div id=\"qe-notebook-header\" style=\"text-align:right;\">\n",
    "        <a href=\"https://quantecon.org/\" title=\"quantecon.org\">\n",
    "                <img style=\"width:250px;display:inline;\" src=\"https://assets.quantecon.org/img/qe-menubar-logo.svg\" alt=\"QuantEcon\">\n",
    "        </a>\n",
    "</div>\n",
    "```\n",
    "# Chapter 2: Operators and Fixed Points\n",
    "\n",
    "\n",
    "```{contents} Contents\n",
    ":depth: 2\n",
    "```"
   ]
  },
  {
   "cell_type": "code",
   "execution_count": null,
   "id": "0e1725ad",
   "metadata": {
    "tags": [
     "remove-cell"
    ]
   },
   "outputs": [],
   "source": [
    "using Pkg;\n",
    "Pkg.activate(\"../\");\n",
    "\n",
    "using PyCall;\n",
    "pygui(:tk);"
   ]
  },
  {
   "cell_type": "markdown",
   "id": "9ff506f4",
   "metadata": {},
   "source": [
    "#### lake.jl"
   ]
  },
  {
   "cell_type": "code",
   "execution_count": null,
   "id": "4fe88ee0",
   "metadata": {
    "tags": [
     "hide-input"
    ]
   },
   "outputs": [],
   "source": [
    "using LinearAlgebra\n",
    "\n",
    "α, λ, d, b = 0.01, 0.1, 0.02, 0.025\n",
    "g = b - d\n",
    "A = [(1 - d) * (1 - λ) + b    (1 - d) * α + b;\n",
    "     (1 - d) * λ              (1 - d) * (1 - α)]\n",
    "\n",
    "ū = (1 + g - (1 - d) * (1 - α)) /  \n",
    "        (1 + g - (1 - d) * (1 - α) + (1 - d) * λ)\n",
    "\n",
    "ē = 1 - ū\n",
    "x̄ = [ū; ē]\n",
    "\n",
    "println(isapprox(A * x̄, (1 + g) * x̄))   # prints true\n",
    "\n",
    "# == Plots == #\n",
    "using PyPlot\n",
    "using LaTeXStrings\n",
    "PyPlot.matplotlib[:rc](\"text\", usetex=true) # allow tex rendering\n",
    "fontsize=14\n",
    "\n",
    "\n",
    "\n",
    "function plot_paths(; figname=\"../figures/lake_1.pdf\", \n",
    "                      savefig=false)\n",
    "    path_length = 100\n",
    "    x_path_1 = zeros(2, path_length)\n",
    "    x_path_2 = zeros(2, path_length)\n",
    "    x_0_1 = 5.0, 0.1\n",
    "    x_0_2 = 0.1, 4.0\n",
    "    x_path_1[1, 1] = x_0_1[1]\n",
    "    x_path_1[2, 1] = x_0_1[2]\n",
    "    x_path_2[1, 1] = x_0_2[1]\n",
    "    x_path_2[2, 1] = x_0_2[2]\n",
    "\n",
    "\n",
    "    for t in 1:(path_length-1)\n",
    "        x_path_1[:, t+1] = A * x_path_1[:, t]\n",
    "        x_path_2[:, t+1] = A * x_path_2[:, t]\n",
    "    end\n",
    "\n",
    "    fig, ax = plt.subplots()\n",
    "\n",
    "    # Set the axes through the origin\n",
    "    for spine in [\"left\", \"bottom\"]\n",
    "        ax.spines[spine].set_position(\"zero\")\n",
    "    end\n",
    "    for spine in [\"right\", \"top\"]\n",
    "        ax.spines[spine].set_color(\"none\")\n",
    "    end\n",
    "\n",
    "    ax.set_xlim(0, 6)\n",
    "    ax.set_ylim(0, 6)\n",
    "    ax.set_xlabel(\"unemployed workforce\", fontsize=fontsize)\n",
    "    ax.set_ylabel(\"employed workforce\", fontsize=fontsize)\n",
    "    ax.set_xticks((0, 6))\n",
    "    ax.set_yticks((0, 6))\n",
    "    s = 10\n",
    "    ax.plot([0, s * ū], [0, s * ē], \"k--\", lw=1)\n",
    "    ax.scatter(x_path_1[1, :], x_path_1[2, :], s=4, c=\"blue\")\n",
    "    ax.scatter(x_path_2[1, :], x_path_2[2, :], s=4, c=\"green\")\n",
    "\n",
    "    ax.plot([ū], [ē], \"ko\", ms=4, alpha=0.6)\n",
    "    ax.annotate(L\"\\bar x\", \n",
    "             xy=(ū, ē),\n",
    "             xycoords=\"data\",\n",
    "             xytext=(20, -20),\n",
    "             textcoords=\"offset points\",\n",
    "             fontsize=fontsize,\n",
    "             arrowprops=Dict(\"arrowstyle\" => \"->\"))\n",
    "\n",
    "    x, y = x_0_1[1], x_0_1[2]\n",
    "    lb = latexstring(\"\\$x_0 = ($(x), $(y))\\$\")\n",
    "    ax.plot([x], [y], \"ko\", ms=2, alpha=0.6)\n",
    "    ax.annotate(lb, \n",
    "                xy=(x, y),\n",
    "             xycoords=\"data\",\n",
    "             xytext=(0, 20),\n",
    "             textcoords=\"offset points\",\n",
    "             fontsize=fontsize,\n",
    "             arrowprops=Dict(\"arrowstyle\" => \"->\"))\n",
    "\n",
    "    x, y = x_0_2[1], x_0_2[2]\n",
    "    lb = latexstring(\"\\$x_0 = ($(x), $(y))\\$\")\n",
    "    ax.plot([x], [y], \"ko\", ms=2, alpha=0.6)\n",
    "    ax.annotate(lb, \n",
    "                xy=(x, y),\n",
    "             xycoords=\"data\",\n",
    "             xytext=(0, 20),\n",
    "             textcoords=\"offset points\",\n",
    "             fontsize=fontsize,\n",
    "             arrowprops=Dict(\"arrowstyle\" => \"->\"))\n",
    "\n",
    "    if savefig\n",
    "        fig.savefig(figname)\n",
    "    end\n",
    "end\n",
    "\n",
    "\n",
    "function plot_growth(; savefig=false, figname=\"../figures/lake_2.pdf\")\n",
    "\n",
    "\n",
    "    path_length = 100\n",
    "    x_0 = 2.1, 1.2\n",
    "    x = zeros(2, path_length)\n",
    "    x[1, 1] = 0.6 \n",
    "    x[2, 1] = 1.2\n",
    "\n",
    "    for t in 1:(path_length-1)\n",
    "        x[:, t+1] = A * x[:, t]\n",
    "    end\n",
    "\n",
    "    fig, axes = plt.subplots(3, 1)\n",
    "    u = x[1, :]\n",
    "    e = x[2, :]\n",
    "    n = x[1, :] .+ x[2, :]\n",
    "    paths = u, e, n\n",
    "    labels = L\"u_t\", L\"e_t\", L\"n_t\"\n",
    "    for (ax, path, label) in zip(axes, paths, labels)\n",
    "        ax.plot(path, label=label)\n",
    "        ax.legend(frameon=false, fontsize=14)\n",
    "        ax.set_xlabel(L\"t\")\n",
    "    end\n",
    "\n",
    "    plt.tight_layout()\n",
    "    if savefig\n",
    "        fig.savefig(figname)\n",
    "    end\n",
    "\n",
    "end"
   ]
  },
  {
   "cell_type": "code",
   "execution_count": null,
   "id": "68469e14",
   "metadata": {},
   "outputs": [],
   "source": [
    "plot_paths(savefig=true)"
   ]
  },
  {
   "cell_type": "code",
   "execution_count": null,
   "id": "4fd0872e",
   "metadata": {},
   "outputs": [],
   "source": [
    "plot_growth(savefig=true)"
   ]
  }
 ],
 "metadata": {
  "jupytext": {
   "text_representation": {
    "extension": ".md",
    "format_name": "myst"
   }
  },
  "kernelspec": {
   "display_name": "Julia",
   "language": "julia",
   "name": "julia-1.9"
  },
  "source_map": [
   10,
   28,
   35,
   38,
   173,
   177
  ]
 },
 "nbformat": 4,
 "nbformat_minor": 5
}