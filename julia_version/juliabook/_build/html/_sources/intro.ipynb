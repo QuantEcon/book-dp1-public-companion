{
 "cells": [
  {
   "cell_type": "markdown",
   "id": "47955459",
   "metadata": {},
   "source": [
    "# Dynamic Programming\n",
    "\n",
    "This website presents a set of lectures on dynamic programming and its applications in economics, finance, and adjacent fields like operations research, designed and written by [Thomas J. Sargent](http://www.tomsargent.com/) and [John Stachurski](http://johnstachurski.net/). The language of instruction is Julia.\n",
    "\n",
    "```{tableofcontents}\n",
    "```"
   ]
  }
 ],
 "metadata": {
  "jupytext": {
   "text_representation": {
    "extension": ".md",
    "format_name": "myst"
   }
  },
  "kernelspec": {
   "display_name": "Python 3",
   "language": "python",
   "name": "python3"
  },
  "source_map": [
   10
  ]
 },
 "nbformat": 4,
 "nbformat_minor": 5
}