{
 "cells": [
  {
   "cell_type": "markdown",
   "id": "1699a570",
   "metadata": {},
   "source": [
    "(Chapter 6: Stochastic Discounting)=\n",
    "```{raw} html\n",
    "<div id=\"qe-notebook-header\" style=\"text-align:right;\">\n",
    "        <a href=\"https://quantecon.org/\" title=\"quantecon.org\">\n",
    "                <img style=\"width:250px;display:inline;\" src=\"https://assets.quantecon.org/img/qe-menubar-logo.svg\" alt=\"QuantEcon\">\n",
    "        </a>\n",
    "</div>\n",
    "```\n",
    "# Chapter 6: Stochastic Discounting\n",
    "\n",
    "\n",
    "```{contents} Contents\n",
    ":depth: 2\n",
    "```"
   ]
  },
  {
   "cell_type": "code",
   "execution_count": null,
   "id": "664ee4ae",
   "metadata": {
    "tags": [
     "remove-cell"
    ]
   },
   "outputs": [],
   "source": [
    "using Pkg;\n",
    "Pkg.activate(\"../\");\n",
    "\n",
    "using PyCall;\n",
    "pygui(:tk);"
   ]
  },
  {
   "cell_type": "markdown",
   "id": "54be7efd",
   "metadata": {},
   "source": [
    "#### plot_interest_rates.jl"
   ]
  },
  {
   "cell_type": "code",
   "execution_count": null,
   "id": "d8b7788a",
   "metadata": {
    "tags": [
     "hide-input"
    ]
   },
   "outputs": [],
   "source": [
    "# Nominal interest rate from https://fred.stlouisfed.org/series/GS1\n",
    "# Real interest rate from https://fred.stlouisfed.org/series/WFII10\n",
    "#\n",
    "# Download as CSV files\n",
    "#\n",
    "\n",
    "using DataFrames, CSV, PyPlot\n",
    "\n",
    "df_nominal = DataFrame(CSV.File(\"data/GS1.csv\"))\n",
    "df_real = DataFrame(CSV.File(\"data/WFII10.csv\"))\n",
    "\n",
    "function plot_rates(df; fontsize=16, savefig=true)\n",
    "    r_type = df == df_nominal ? \"nominal\" : \"real\"\n",
    "    fig, ax = plt.subplots(figsize=(9, 5))\n",
    "    ax.plot(df[!, 1], df[!, 2], label=r_type*\" interest rate\")\n",
    "    ax.plot(df[!, 1], zero(df[!, 2]), c=\"k\", ls=\"--\")\n",
    "    ax.set_xlim(df[1, 1], df[end, 1])\n",
    "    ax.legend(fontsize=fontsize, frameon=false)\n",
    "    if savefig\n",
    "        fig.savefig(\"../figures/plot_interest_rates_\"*r_type*\".pdf\")\n",
    "    end\n",
    "end"
   ]
  },
  {
   "cell_type": "code",
   "execution_count": null,
   "id": "e34d4484",
   "metadata": {},
   "outputs": [],
   "source": [
    "plot_rates(df_nominal, savefig=true)"
   ]
  },
  {
   "cell_type": "code",
   "execution_count": null,
   "id": "63f40867",
   "metadata": {},
   "outputs": [],
   "source": [
    "plot_rates(df_real, savefig=true)"
   ]
  },
  {
   "cell_type": "markdown",
   "id": "7a8a2f33",
   "metadata": {},
   "source": [
    "#### pd_ratio.jl"
   ]
  },
  {
   "cell_type": "code",
   "execution_count": null,
   "id": "19df91b1",
   "metadata": {
    "tags": [
     "hide-input"
    ]
   },
   "outputs": [],
   "source": [
    "\"\"\"\n",
    "Price-dividend ratio in a model with dividend and consumption growth.\n",
    "\n",
    "\"\"\"\n",
    "\n",
    "using QuantEcon, LinearAlgebra\n",
    "\n",
    "\"Creates an instance of the asset pricing model with Markov state.\"\n",
    "function create_asset_pricing_model(;\n",
    "        n=200,              # state grid size\n",
    "        ρ=0.9, ν=0.2,       # state persistence and volatility\n",
    "        β=0.99, γ=2.5,      # discount and preference parameter\n",
    "        μ_c=0.01, σ_c=0.02, # consumption growth mean and volatility\n",
    "        μ_d=0.02, σ_d=0.1)  # dividend growth mean and volatility\n",
    "    mc = tauchen(n, ρ, ν)\n",
    "    x_vals, P = exp.(mc.state_values), mc.p\n",
    "    return (; x_vals, P, β, γ, μ_c, σ_c, μ_d, σ_d)\n",
    "end\n",
    "\n",
    "\" Build the discount matrix A. \"\n",
    "function build_discount_matrix(model)\n",
    "    (; x_vals, P, β, γ, μ_c, σ_c, μ_d, σ_d) = model\n",
    "    e = exp.(μ_d - γ*μ_c + (γ^2*σ_c^2 + σ_d^2)/2 .+ (1-γ)*x_vals)\n",
    "    return β * e .* P\n",
    "end\n",
    "\n",
    "\"Compute the price-dividend ratio associated with the model.\"\n",
    "function pd_ratio(model)\n",
    "    (; x_vals, P, β, γ, μ_c, σ_c, μ_d, σ_d) = model\n",
    "    A = build_discount_matrix(model)\n",
    "    @assert maximum(abs.(eigvals(A))) < 1 \"Requires r(A) < 1.\"\n",
    "    n = length(x_vals)\n",
    "    return (I - A) \\ (A * ones(n))\n",
    "end\n",
    "\n",
    "\n",
    "# == Plots == #\n",
    "\n",
    "using PyPlot\n",
    "using LaTeXStrings\n",
    "PyPlot.matplotlib[:rc](\"text\", usetex=true) # allow tex rendering\n",
    "fontsize=16\n",
    "\n",
    "default_model = create_asset_pricing_model()\n",
    "\n",
    "\n",
    "function plot_main(; μ_d_vals = (0.02, 0.08),\n",
    "                     savefig=false, \n",
    "                     figname=\"../figures/pd_ratio_1.pdf\")\n",
    "    fig, ax = plt.subplots(figsize=(9, 5.2))\n",
    "\n",
    "    for μ_d in μ_d_vals\n",
    "        model = create_asset_pricing_model(μ_d=μ_d)\n",
    "        (; x_vals, P, β, γ, μ_c, σ_c, μ_d, σ_d) = model\n",
    "        v_star = pd_ratio(model)\n",
    "        ax.plot(x_vals, v_star, lw=2, alpha=0.6, label=L\"\\mu_d=\"*\"$μ_d\")\n",
    "    end\n",
    "\n",
    "    ax.legend(frameon=false, fontsize=fontsize)\n",
    "    ax.set_xlabel(L\"x\", fontsize=fontsize)\n",
    "    if savefig\n",
    "        fig.savefig(figname)\n",
    "    end\n",
    "end\n"
   ]
  },
  {
   "cell_type": "code",
   "execution_count": null,
   "id": "ab4a6b1c",
   "metadata": {},
   "outputs": [],
   "source": [
    "plot_main(savefig=true)"
   ]
  },
  {
   "cell_type": "markdown",
   "id": "7cf72ad3",
   "metadata": {},
   "source": [
    "#### inventory_sdd.jl"
   ]
  },
  {
   "cell_type": "code",
   "execution_count": null,
   "id": "41cdffde",
   "metadata": {
    "tags": [
     "hide-input"
    ]
   },
   "outputs": [],
   "source": [
    "\"\"\"\n",
    "Inventory management model with state-dependent discounting.  \n",
    "The discount factor takes the form β_t = Z_t, where (Z_t) is \n",
    "a discretization of the Gaussian AR(1) process \n",
    "\n",
    "    X_t = ρ X_{t-1} + b + ν W_t.\n",
    "\n",
    "\"\"\"\n",
    "\n",
    "include(\"s_approx.jl\")\n",
    "using LinearAlgebra, Distributions, QuantEcon\n",
    "\n",
    "function create_sdd_inventory_model(; \n",
    "            ρ=0.98, ν=0.002, n_z=20, b=0.97,  # Z state parameters\n",
    "            K=40, c=0.2, κ=0.8, p=0.6)        # firm and demand parameters\n",
    "    ϕ(d) = (1 - p)^d * p                      # demand pdf\n",
    "    y_vals = collect(0:K)                     # inventory levels\n",
    "    mc = tauchen(n_z, ρ, ν)\n",
    "    z_vals, Q = mc.state_values .+ b, mc.p\n",
    "    ρL = maximum(abs.(eigvals(z_vals .* Q)))     \n",
    "    @assert  ρL < 1 \"Error: ρ(L) ≥ 1.\"    # check ρ(L) < 1\n",
    "    return (; K, c, κ, p, ϕ, y_vals, z_vals, Q)\n",
    "end\n",
    "\n",
    "m(y) = max(y, 0)  # Convenience function\n",
    "\n",
    "\"The function B(x, a, v) = r(x, a) + β(x) Σ_x′ v(x′) P(x, a, x′).\"\n",
    "function B(x, i_z, a, v, model; d_max=100)\n",
    "    (; K, c, κ, p, ϕ, y_vals, z_vals, Q) = model\n",
    "    z = z_vals[i_z]\n",
    "    revenue = sum(min(x, d)*ϕ(d) for d in 0:d_max)\n",
    "    current_profit =  revenue - c * a - κ * (a > 0)\n",
    "    cv = 0.0\n",
    "    for i_z′ in eachindex(z_vals)\n",
    "        for d in 0:d_max\n",
    "            cv += v[m(x - d) + a + 1, i_z′] * ϕ(d) * Q[i_z, i_z′]\n",
    "        end\n",
    "    end\n",
    "    return current_profit + z * cv\n",
    "end\n",
    "\n",
    "\"The Bellman operator.\"\n",
    "function T(v, model)\n",
    "    (; K, c, κ, p, ϕ, y_vals, z_vals, Q) = model\n",
    "    new_v = similar(v)\n",
    "    for (i_z, z) in enumerate(z_vals)\n",
    "        for (i_y, y) in enumerate(y_vals)\n",
    "            Γy = 0:(K - y) \n",
    "            new_v[i_y, i_z], _ = findmax(B(y, i_z, a, v, model) for a in Γy)\n",
    "        end\n",
    "    end\n",
    "    return new_v\n",
    "end\n",
    "\n",
    "\"Get a v-greedy policy.  Returns a zero-based array.\"\n",
    "function get_greedy(v, model)\n",
    "    (; K, c, κ, p, ϕ, y_vals, z_vals, Q) = model\n",
    "    n_z = length(z_vals)\n",
    "    σ_star = zeros(Int32, K+1, n_z)\n",
    "    for (i_z, z) in enumerate(z_vals)\n",
    "        for (i_y, y) in enumerate(y_vals)\n",
    "            Γy = 0:(K - y) \n",
    "            _, i_a = findmax(B(y, i_z, a, v, model) for a in Γy)\n",
    "            σ_star[i_y, i_z] = Γy[i_a]\n",
    "        end\n",
    "    end\n",
    "    return σ_star\n",
    "end\n",
    "\n",
    "\n",
    "\"Use successive_approx to get v_star and then compute greedy.\"\n",
    "function solve_inventory_model(v_init, model)\n",
    "    (; K, c, κ, p, ϕ, y_vals, z_vals, Q) = model\n",
    "    v_star = successive_approx(v -> T(v, model), v_init)\n",
    "    σ_star = get_greedy(v_star, model)\n",
    "    return v_star, σ_star\n",
    "end\n",
    "\n",
    "\n",
    "# == Plots == # \n",
    "\n",
    "using PyPlot\n",
    "using PyPlot\n",
    "using LaTeXStrings\n",
    "PyPlot.matplotlib[:rc](\"text\", usetex=true) # allow tex rendering\n",
    "\n",
    "# Create an instance of the model and solve it\n",
    "model = create_sdd_inventory_model()\n",
    "(; K, c, κ, p, ϕ, y_vals, z_vals, Q) = model\n",
    "n_z = length(z_vals)\n",
    "v_init = zeros(Float64, K+1, n_z)\n",
    "println(\"Solving model.\")\n",
    "v_star, σ_star = solve_inventory_model(v_init, model)\n",
    "z_mc = MarkovChain(Q, z_vals)\n",
    "\n",
    "\"Simulate given the optimal policy.\"\n",
    "function sim_inventories(ts_length; X_init=0)\n",
    "    i_z = simulate_indices(z_mc, ts_length, init=1)\n",
    "    G = Geometric(p)\n",
    "    X = zeros(Int32, ts_length)\n",
    "    X[1] = X_init\n",
    "    for t in 1:(ts_length-1)\n",
    "        D′ = rand(G)\n",
    "        X[t+1] = m(X[t] - D′) + σ_star[X[t] + 1, i_z[t]]\n",
    "    end\n",
    "    return X, z_vals[i_z]\n",
    "end\n",
    "\n",
    "function plot_ts(; ts_length=400,\n",
    "                   fontsize=16, \n",
    "                   figname=\"../figures/inventory_sdd_ts.pdf\",\n",
    "                   savefig=false)\n",
    "    X, Z = sim_inventories(ts_length)\n",
    "    fig, axes = plt.subplots(2, 1, figsize=(9, 5.5))\n",
    "\n",
    "    ax = axes[1]\n",
    "    ax.plot(X, label=\"inventory\", alpha=0.7)\n",
    "    ax.set_xlabel(L\"t\", fontsize=fontsize)\n",
    "    ax.legend(fontsize=fontsize, frameon=false)\n",
    "    ax.set_ylim(0, maximum(X)+3)\n",
    "\n",
    "    # calculate interest rate from discount factors\n",
    "    r = (1 ./ Z) .- 1\n",
    "\n",
    "    ax = axes[2]\n",
    "    ax.plot(r, label=L\"r_t\", alpha=0.7)\n",
    "    ax.set_xlabel(L\"t\", fontsize=fontsize)\n",
    "    ax.legend(fontsize=fontsize, frameon=false)\n",
    "    #ax.set_ylim(0, maximum(X)+8)\n",
    "\n",
    "    plt.tight_layout()\n",
    "    if savefig == true\n",
    "        fig.savefig(figname)\n",
    "    end\n",
    "end\n"
   ]
  },
  {
   "cell_type": "code",
   "execution_count": null,
   "id": "b58c3008",
   "metadata": {},
   "outputs": [],
   "source": [
    "plot_ts(savefig=true)"
   ]
  }
 ],
 "metadata": {
  "jupytext": {
   "text_representation": {
    "extension": ".md",
    "format_name": "myst"
   }
  },
  "kernelspec": {
   "display_name": "Julia",
   "language": "julia",
   "name": "julia-1.9"
  },
  "source_map": [
   10,
   28,
   35,
   38,
   65,
   69,
   71,
   73,
   143,
   145,
   147,
   288
  ]
 },
 "nbformat": 4,
 "nbformat_minor": 5
}