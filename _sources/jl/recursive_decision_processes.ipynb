{
 "cells": [
  {
   "cell_type": "markdown",
   "id": "a393d305",
   "metadata": {},
   "source": [
    "(Chapter 8: Recursive Decision Processes)=\n",
    "```{raw} jupyter\n",
    "<div id=\"qe-notebook-header\" style=\"text-align:right;\">\n",
    "        <a href=\"https://quantecon.org/\" title=\"quantecon.org\">\n",
    "                <img style=\"width:250px;display:inline;\" src=\"https://assets.quantecon.org/img/qe-menubar-logo.svg\" alt=\"QuantEcon\">\n",
    "        </a>\n",
    "</div>\n",
    "```\n",
    "# Chapter 8: Recursive Decision Processes\n",
    "\n",
    "\n",
    "```{contents} Contents\n",
    ":depth: 2\n",
    "```"
   ]
  },
  {
   "cell_type": "code",
   "execution_count": null,
   "id": "f96a5fb2",
   "metadata": {
    "tags": [
     "remove-cell"
    ]
   },
   "outputs": [],
   "source": [
    "using Pkg;\n",
    "Pkg.activate(\"./\");\n",
    "\n",
    "using PyCall;\n",
    "pygui(:tk);"
   ]
  },
  {
   "cell_type": "markdown",
   "id": "ab7256bd",
   "metadata": {},
   "source": [
    "## quantile_function.jl"
   ]
  },
  {
   "cell_type": "code",
   "execution_count": null,
   "id": "2589b2e6",
   "metadata": {
    "tags": [
     "hide-input"
    ]
   },
   "outputs": [],
   "source": [
    "import Distributions.quantile, Distributions.DiscreteNonParametric\n",
    "\n",
    "\"Compute the τ-th quantile of v(X) when X ∼ ϕ and v = sort(v).\"\n",
    "function quantile(τ, v, ϕ)\n",
    "    for (i, v_value) in enumerate(v)\n",
    "        p = sum(ϕ[1:i])  # sum all ϕ[j] s.t. v[j] ≤ v_value\n",
    "        if p ≥ τ         # exit and return v_value if prob ≥ τ\n",
    "            return v_value\n",
    "        end\n",
    "    end\n",
    "\n",
    "end\n",
    "\n",
    "\"For each i, compute the τ-th quantile of v(Y) when Y ∼ P(i, ⋅)\"\n",
    "function R(τ, v, P)\n",
    "    return [quantile(τ, v, P[i, :]) for i in eachindex(v)]\n",
    "end\n",
    "\n",
    "\n",
    "function quantile_test(τ)\n",
    "    ϕ = [0.1, 0.2, 0.7]\n",
    "    v = [10, 20, 30]\n",
    "\n",
    "    d = DiscreteNonParametric(v, ϕ)\n",
    "    return quantile(τ, v, ϕ), quantile(d, τ)\n",
    "end\n",
    "    \n",
    "\n"
   ]
  },
  {
   "cell_type": "markdown",
   "id": "d2b100ab",
   "metadata": {},
   "source": [
    "## quantile_js.jl"
   ]
  },
  {
   "cell_type": "code",
   "execution_count": null,
   "id": "51467992",
   "metadata": {
    "tags": [
     "hide-input"
    ]
   },
   "outputs": [],
   "source": [
    "\"\"\"\n",
    "Job search with Markov wage draws and quantile preferences.\n",
    "\n",
    "\"\"\"\n",
    "\n",
    "using QuantEcon\n",
    "include(\"quantile_function.jl\")\n",
    "\n",
    "\"Creates an instance of the job search model.\"\n",
    "function create_markov_js_model(;\n",
    "        n=100,       # wage grid size\n",
    "        ρ=0.9,       # wage persistence\n",
    "        ν=0.2,       # wage volatility\n",
    "        β=0.98,      # discount factor\n",
    "        c=1.0,       # unemployment compensation\n",
    "        τ=0.5        # quantile parameter\n",
    "    )\n",
    "    mc = tauchen(n, ρ, ν)\n",
    "    w_vals, P = exp.(mc.state_values), mc.p\n",
    "    return (; n, w_vals, P, β, c, τ)\n",
    "end\n",
    "\n",
    "\"\"\"\n",
    "The policy operator \n",
    "\n",
    "    (T_σ v)(w) = σ(w) (w / (1-β)) + (1 - σ(w))(c + β (R_τ v)(w))\n",
    "\n",
    "\"\"\"\n",
    "function T_σ(v, σ, model)\n",
    "    (; n, w_vals, P, β, c, τ) = model\n",
    "    h = c .+ β * R(τ, v, P)\n",
    "    e = w_vals ./ (1 - β)\n",
    "    return σ .* e + (1 .- σ) .* h\n",
    "end\n",
    "\n",
    "\" Get a v-greedy policy.\"\n",
    "function get_greedy(v, model)\n",
    "    (; n, w_vals, P, β, c, τ) = model\n",
    "    σ = w_vals / (1 - β) .≥ c .+ β * R(τ, v, P)\n",
    "    return σ\n",
    "end\n",
    "\n",
    "\n",
    "\"Optimistic policy iteration routine.\"\n",
    "function optimistic_policy_iteration(model; tolerance=1e-5, m=100)\n",
    "    (; n, w_vals, P, β, c, τ) = model\n",
    "    v = ones(n)\n",
    "    error = tolerance + 1\n",
    "    while error > tolerance\n",
    "        last_v = v\n",
    "        σ = get_greedy(v, model)\n",
    "        for i in 1:m\n",
    "            v = T_σ(v, σ, model)\n",
    "        end\n",
    "        error = maximum(abs.(v - last_v))\n",
    "        println(\"OPI current error = $error\")\n",
    "    end\n",
    "    return v, get_greedy(v, model)\n",
    "end\n",
    "\n",
    "\n",
    "\n",
    "# == Plots == #\n",
    "\n",
    "using PyPlot\n",
    "using LaTeXStrings\n",
    "PyPlot.matplotlib[:rc](\"text\", usetex=true) # allow tex rendering\n",
    "fontsize=16\n",
    "\n",
    "\n",
    "function plot_main(; tau_vals=(0.1, 0.25, 0.5, 0.6, 0.7, 0.8),\n",
    "                     savefig=false, \n",
    "                     figname=\"figures/quantile_js.pdf\")\n",
    "\n",
    "    w_star_vals = zeros(length(tau_vals))\n",
    "\n",
    "    for (τ_idx, τ) in enumerate(tau_vals)\n",
    "        model = create_markov_js_model(τ=τ)\n",
    "        (; n, w_vals, P, β, c, τ) = model\n",
    "        v_star, σ_star = optimistic_policy_iteration(model)\n",
    "        for i in 1:n\n",
    "            if σ_star[i] > 0\n",
    "                w_star_vals[τ_idx] = w_vals[i]\n",
    "                break\n",
    "            end\n",
    "        end\n",
    "    end\n",
    "\n",
    "    model = create_markov_js_model()\n",
    "    (; n, w_vals, P, β, c, τ) = model\n",
    "    mc = MarkovChain(model.P)\n",
    "    s = stationary_distributions(mc)[1]\n",
    "\n",
    "    fig, ax = plt.subplots()\n",
    "    ax.plot(tau_vals, w_star_vals, \"k--\", lw=2, alpha=0.7, label=\"reservation wage\")\n",
    "    ax.barh(w_vals, 32 * s, alpha=0.05, align=\"center\")\n",
    "    ax.legend(frameon=false, fontsize=fontsize, loc=\"upper center\")\n",
    "    ax.set_xlabel(\"quantile\", fontsize=fontsize)\n",
    "    ax.set_ylabel(\"wages\", fontsize=fontsize)\n",
    "\n",
    "    if savefig\n",
    "        fig.savefig(figname)\n",
    "    end\n",
    "end\n"
   ]
  },
  {
   "cell_type": "code",
   "execution_count": null,
   "id": "b5dd37cd",
   "metadata": {},
   "outputs": [],
   "source": [
    "plot_main(savefig=true)"
   ]
  }
 ],
 "metadata": {
  "jupytext": {
   "text_representation": {
    "extension": ".md",
    "format_name": "myst"
   }
  },
  "kernelspec": {
   "display_name": "Julia",
   "language": "julia",
   "name": "julia-1.9"
  },
  "source_map": [
   10,
   28,
   35,
   38,
   70,
   72,
   182
  ]
 },
 "nbformat": 4,
 "nbformat_minor": 5
}