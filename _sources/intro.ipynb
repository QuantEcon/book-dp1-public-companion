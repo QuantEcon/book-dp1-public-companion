{
 "cells": [
  {
   "cell_type": "markdown",
   "id": "17d6017f",
   "metadata": {},
   "source": [
    "# Dynamic Programming\n",
    "\n",
    "This website presents a set of lectures on dynamic programming and its applications in economics, finance, and adjacent fields like operations research, designed and written by [Thomas J. Sargent](http://www.tomsargent.com/) and [John Stachurski](http://johnstachurski.net/). The languages of instruction are Julia and Python.\n",
    "\n",
    "```{tableofcontents}\n",
    "```"
   ]
  },
  {
   "cell_type": "code",
   "execution_count": null,
   "id": "cf4e0839",
   "metadata": {
    "tags": [
     "remove-cell"
    ]
   },
   "outputs": [],
   "source": [
    "using Pkg;\n",
    "Pkg.activate(\"./\");\n",
    "Pkg.instantiate();"
   ]
  }
 ],
 "metadata": {
  "jupytext": {
   "text_representation": {
    "extension": ".md",
    "format_name": "myst"
   }
  },
  "kernelspec": {
   "display_name": "Julia",
   "language": "julia",
   "name": "julia-1.9"
  },
  "source_map": [
   10,
   19
  ]
 },
 "nbformat": 4,
 "nbformat_minor": 5
}