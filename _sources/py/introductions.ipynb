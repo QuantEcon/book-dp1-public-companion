{
 "cells": [
  {
   "cell_type": "markdown",
   "id": "7a94c62a",
   "metadata": {},
   "source": [
    "(Chapter 1: Introductions)=\n",
    "```{raw} jupyter\n",
    "<div id=\"qe-notebook-header\" style=\"text-align:right;\">\n",
    "        <a href=\"https://quantecon.org/\" title=\"quantecon.org\">\n",
    "                <img style=\"width:250px;display:inline;\" src=\"https://assets.quantecon.org/img/qe-menubar-logo.svg\" alt=\"QuantEcon\">\n",
    "        </a>\n",
    "</div>\n",
    "```\n",
    "# Chapter 1: Introductions\n",
    "\n",
    "\n",
    "```{contents} Contents\n",
    ":depth: 2\n",
    "```\n",
    "\n",
    "\n",
    "\n",
    "## two_period_job_search.py"
   ]
  },
  {
   "cell_type": "code",
   "execution_count": 1,
   "id": "7a503264",
   "metadata": {},
   "outputs": [],
   "source": [
    "from quantecon.distributions import BetaBinomial\n",
    "\n",
    "import numpy as np\n",
    "from numba import njit\n",
    "from collections import namedtuple\n",
    "\n",
    "\n",
    "# NamedTuple Model\n",
    "Model = namedtuple(\"Model\", (\"n\", \"w_vals\", \"φ\", \"β\", \"c\"))\n",
    "\n",
    "\n",
    "def create_job_search_model(\n",
    "        n=50,        # wage grid size\n",
    "        w_min=10.0,  # lowest wage\n",
    "        w_max=60.0,  # highest wage\n",
    "        a=200,       # wage distribution parameter\n",
    "        b=100,       # wage distribution parameter\n",
    "        β=0.96,      # discount factor\n",
    "        c=10.0       # unemployment compensation\n",
    "    ):\n",
    "    \"\"\"\n",
    "    Creates the parameters for job search model and returns the\n",
    "    instance of namedtuple Model\n",
    "    \"\"\"\n",
    "    w_vals = np.linspace(w_min, w_max, n+1)\n",
    "    φ = BetaBinomial(n, a, b).pdf()\n",
    "    return Model(n=n, w_vals=w_vals, φ=φ, β=β, c=c)\n",
    "\n",
    "\n",
    "@njit\n",
    "def v_1(w, model):\n",
    "    \"\"\"\n",
    "    Computes lifetime value at t=1 given current wage w_1 = w\n",
    "    \"\"\"\n",
    "    β, c = model.β, model.c\n",
    "    s = np.maximum(c, model.w_vals)\n",
    "    h_1 = c + β * np.sum(s * model.φ)\n",
    "    return np.maximum(w + β * w, h_1)\n",
    "\n",
    "\n",
    "@njit\n",
    "def res_wage(model):\n",
    "    \"\"\"\n",
    "    Computes reservation wage at t=1\n",
    "    \"\"\"\n",
    "    β, c = model.β, model.c\n",
    "    s = np.maximum(c, model.w_vals)\n",
    "    h_1 = c + β * np.sum(s * model.φ)\n",
    "    return h_1 / (1 + β)\n",
    "\n",
    "\n",
    "\n",
    "##### Plots #####\n",
    "\n",
    "import matplotlib.pyplot as plt\n",
    "import matplotlib.pyplot as plt\n",
    "\n",
    "plt.rcParams.update({\"text.usetex\": True, \"font.size\": 14})\n",
    "\n",
    "\n",
    "default_model = create_job_search_model()\n",
    "\n",
    "\n",
    "def fig_dist(model=default_model, fs=10):\n",
    "    \"\"\"\n",
    "    Plot the distribution of wages\n",
    "    \"\"\"\n",
    "    fig, ax = plt.subplots()\n",
    "    ax.plot(model.w_vals, model.φ, \"-o\", alpha=0.5, label=\"wage distribution\")\n",
    "    ax.legend(loc=\"upper left\", fontsize=fs)\n",
    "\n",
    "\n",
    "def fig_v1(model=default_model, savefig=False,\n",
    "                  figname=\"./figures/iid_job_search_0_py.pdf\", fs=18):\n",
    "    \"\"\"\n",
    "    Plot two-period value function and res wage\n",
    "    \"\"\"\n",
    "    n, w_vals, φ, β, c = model\n",
    "\n",
    "    v = [v_1(w, model) for w in w_vals]\n",
    "    w_star = res_wage(model)\n",
    "    s = np.maximum(c, w_vals)\n",
    "    continuation_val = c + β * np.sum(s * φ)\n",
    "    min_w, max_w = np.min(w_vals), np.max(w_vals)\n",
    "\n",
    "    fontdict = {'fontsize': 10}\n",
    "    fig, ax = plt.subplots(figsize=(9, 5.5))\n",
    "    ax.set_ylim(0, 120)\n",
    "    ax.set_xlim(min_w, max_w)\n",
    "    ax.vlines((w_star,), (0,), (continuation_val,), lw=0.5)\n",
    "    ax.set_yticks((0, 50, 100))\n",
    "    ax.set_yticklabels((0, 50, 100), fontdict=fontdict)\n",
    "    ax.set_xticks((min_w, w_star, max_w))\n",
    "    ax.set_xticklabels((min_w, r\"$w^*_1$\", max_w), fontdict=fontdict)\n",
    "    ax.plot(w_vals, w_vals + β * w_vals, alpha=0.8, linewidth=3,\n",
    "            label=r\"$w_1 + \\beta w_1$\")\n",
    "    ax.plot(w_vals, [continuation_val]*(n+1), linewidth=3, alpha=0.8,\n",
    "            label=r\"$c + \\beta \\sum_{w'} \\max\\{c, w'\\} \\varphi(w')$\" )\n",
    "    ax.plot(w_vals, v, \"k--\", markersize=2, alpha=1.0, linewidth=2,\n",
    "            label=r\"$v_1(w_1)$\")\n",
    "    ax.legend(frameon=False, fontsize=fs, loc=\"upper left\")\n",
    "    if savefig:\n",
    "        fig.savefig(figname)\n"
   ]
  },
  {
   "cell_type": "code",
   "execution_count": 2,
   "id": "1ea165f9",
   "metadata": {},
   "outputs": [
    {
     "data": {
      "image/png": "[encoded data removed]",
      "text/plain": [
       "<Figure size 900x550 with 1 Axes>"
      ]
     },
     "metadata": {},
     "output_type": "display_data"
    }
   ],
   "source": [
    "fig_v1()"
   ]
  },
  {
   "cell_type": "markdown",
   "id": "846ff7a7",
   "metadata": {},
   "source": [
    "## compute_spec_rad.py"
   ]
  },
  {
   "cell_type": "code",
   "execution_count": 3,
   "id": "5fd7bb9a",
   "metadata": {},
   "outputs": [
    {
     "name": "stdout",
     "output_type": "stream",
     "text": [
      "0.5828427124746189\n"
     ]
    }
   ],
   "source": [
    "import numpy as np\n",
    "\n",
    "# Spectral radius\n",
    "ρ = lambda A: np.max(np.abs(np.linalg.eigvals(A)))\n",
    "\n",
    "# Test with arbitrary A\n",
    "A = np.array([\n",
    "    [0.4, 0.1],\n",
    "    [0.7, 0.2]\n",
    "])\n",
    "print(ρ(A))\n"
   ]
  },
  {
   "cell_type": "markdown",
   "id": "b5a9e323",
   "metadata": {},
   "source": [
    "## power_series.py"
   ]
  },
  {
   "cell_type": "code",
   "execution_count": 4,
   "id": "2380e0ea",
   "metadata": {},
   "outputs": [
    {
     "name": "stdout",
     "output_type": "stream",
     "text": [
      "5.6210591736771676e-12\n"
     ]
    }
   ],
   "source": [
    "import numpy as np\n",
    "\n",
    "# Primitives\n",
    "A = np.array([\n",
    "    [0.4, 0.1],\n",
    "    [0.7, 0.2]\n",
    "])\n",
    "\n",
    "\n",
    "# Method one: direct inverse\n",
    "I = np.identity(2)\n",
    "B_inverse = np.linalg.inv(I - A)\n",
    "\n",
    "\n",
    "# Method two: power series\n",
    "def power_series(A):\n",
    "    B_sum = np.zeros((2, 2))\n",
    "    A_power = np.identity(2)\n",
    "    for k in range(50):\n",
    "        B_sum += A_power\n",
    "        A_power = np.dot(A_power, A)\n",
    "    return B_sum\n",
    "\n",
    "\n",
    "# Print maximal error\n",
    "print(np.max(np.abs(B_inverse - power_series(A))))\n"
   ]
  },
  {
   "cell_type": "markdown",
   "id": "d7cfecbb",
   "metadata": {},
   "source": [
    "## s_approx.py"
   ]
  },
  {
   "cell_type": "code",
   "execution_count": 5,
   "id": "e57b2888",
   "metadata": {},
   "outputs": [],
   "source": [
    "\"\"\"\n",
    "Computes the approximate fixed point of T via successive approximation.\n",
    "\"\"\"\n",
    "\n",
    "import numpy as np\n",
    "\n",
    "def successive_approx(T,                     # Operator (callable)\n",
    "                      x_0,                   # Initial condition\n",
    "                      tolerance=1e-6,        # Error tolerance\n",
    "                      max_iter=10_000,       # Max iteration bound\n",
    "                      print_step=25):        # Print at multiples\n",
    "    x = x_0\n",
    "    error = tolerance + 1\n",
    "    k = 1\n",
    "    while (error > tolerance) and (k <= max_iter):\n",
    "        x_new = T(x)\n",
    "        error = np.max(np.abs(x_new - x))\n",
    "        if k % print_step == 0:\n",
    "            print(f\"Completed iteration {k} with error {error}.\")\n",
    "        x = x_new\n",
    "        k += 1\n",
    "    if error <= tolerance:\n",
    "        print(f\"Terminated successfully in {k} iterations.\")\n",
    "    else:\n",
    "        print(\"Warning: hit iteration bound.\")\n",
    "    return x\n"
   ]
  },
  {
   "cell_type": "markdown",
   "id": "21ec8cc9",
   "metadata": {},
   "source": [
    "## linear_iter.py"
   ]
  },
  {
   "cell_type": "code",
   "execution_count": 6,
   "id": "617adb45",
   "metadata": {},
   "outputs": [
    {
     "name": "stdout",
     "output_type": "stream",
     "text": [
      "Completed iteration 25 with error 2.911659384707832e-06.\n",
      "Terminated successfully in 28 iterations.\n",
      "True\n"
     ]
    }
   ],
   "source": [
    "from s_approx import successive_approx\n",
    "import numpy as np\n",
    "\n",
    "# Compute the fixed point of Tx = Ax + b via linear algebra\n",
    "A = np.array([\n",
    "    [0.4, 0.1],\n",
    "    [0.7, 0.2]\n",
    "])\n",
    "\n",
    "b = np.array([\n",
    "    [1.0],\n",
    "    [2.0]\n",
    "])\n",
    "\n",
    "I = np.identity(2)\n",
    "x_star = np.linalg.solve(I - A, b)  # compute (I - A)^{-1} * b\n",
    "\n",
    "\n",
    "# Compute the fixed point via successive approximation\n",
    "T = lambda x: np.dot(A, x) + b\n",
    "x_0 = np.array([\n",
    "    [1.0],\n",
    "    [1.0]\n",
    "])\n",
    "x_star_approx = successive_approx(T, x_0)\n",
    "\n",
    "# Test for approximate equality (prints \"True\")\n",
    "print(np.allclose(x_star, x_star_approx, rtol=1e-5))\n"
   ]
  },
  {
   "cell_type": "markdown",
   "id": "bc68149e",
   "metadata": {},
   "source": [
    "## linear_iter_fig.py"
   ]
  },
  {
   "cell_type": "code",
   "execution_count": 7,
   "id": "bfbebcc5",
   "metadata": {},
   "outputs": [
    {
     "name": "stdout",
     "output_type": "stream",
     "text": [
      "Completed iteration 25 with error 2.911659384707832e-06.\n",
      "Terminated successfully in 28 iterations.\n",
      "True\n"
     ]
    }
   ],
   "source": [
    "import matplotlib.pyplot as plt\n",
    "import matplotlib.pyplot as plt\n",
    "\n",
    "plt.rcParams.update({\"text.usetex\": True, \"font.size\": 14})\n",
    "import numpy as np\n",
    "\n",
    "from linear_iter import x_star, T\n",
    "\n",
    "def plot_main(savefig=False, figname=\"./figures/linear_iter_fig_1.pdf\"):\n",
    "\n",
    "    fig, ax = plt.subplots()\n",
    "\n",
    "    e = 0.02\n",
    "\n",
    "    marker_size = 60\n",
    "    fs = 10\n",
    "\n",
    "    colors = (\"red\", \"blue\", \"orange\", \"green\")\n",
    "    u_0_vecs = ([[2.0], [3.0]], [[3.0], [5.2]], [[2.4], [3.6]], [[2.6], [5.6]])\n",
    "    u_0_vecs = list(map(np.array, u_0_vecs))\n",
    "    iter_range = 8\n",
    "\n",
    "    for (x_0, color) in zip(u_0_vecs, colors):\n",
    "        x = x_0\n",
    "        s, t = x\n",
    "        ax.text(s+e, t-4*e, r\"$u_0$\", fontsize=fs)\n",
    "\n",
    "        for i in range(iter_range):\n",
    "            s, t = x\n",
    "            ax.scatter((s,), (t,), c=color, alpha=0.2, s=marker_size)\n",
    "            x_new = T(x)\n",
    "            s_new, t_new = x_new\n",
    "            ax.plot((s, s_new), (t, t_new), marker='.',linewidth=0.5, alpha=0.5, color=color)\n",
    "            x = x_new\n",
    "\n",
    "    s_star, t_star = x_star\n",
    "    ax.scatter((s_star,), (t_star,), c=\"k\", s=marker_size * 1.2)\n",
    "    ax.text(s_star-4*e, t_star+4*e, r\"$u^*$\", fontsize=fs)\n",
    "\n",
    "    ax.set_xticks((2.0, 2.5, 3.0))\n",
    "    ax.set_yticks((3.0, 4.0, 5.0, 6.0))\n",
    "    ax.set_xlim(1.8, 3.2)\n",
    "    ax.set_ylim(2.8, 6.1)\n",
    "\n",
    "    if savefig:\n",
    "        fig.savefig(figname)\n"
   ]
  },
  {
   "cell_type": "markdown",
   "id": "6547792f",
   "metadata": {},
   "source": [
    "## iid_job_search.py"
   ]
  },
  {
   "cell_type": "code",
   "execution_count": 8,
   "id": "24c9e087",
   "metadata": {},
   "outputs": [],
   "source": [
    "\"\"\"\n",
    "VFI approach to job search in the infinite-horizon IID case.\n",
    "\n",
    "\"\"\"\n",
    "\n",
    "from quantecon import compute_fixed_point\n",
    "\n",
    "from two_period_job_search import create_job_search_model\n",
    "\n",
    "from numba import njit\n",
    "import numpy as np\n",
    "\n",
    "\n",
    "# A model with default parameters\n",
    "default_model = create_job_search_model()\n",
    "\n",
    "\n",
    "@njit\n",
    "def T(v, model):\n",
    "    \"\"\" The Bellman operator. \"\"\"\n",
    "    n, w_vals, φ, β, c = model\n",
    "    return np.array([np.maximum(w / (1 - β),\n",
    "                    c + β * np.sum(v * φ)) for w in w_vals])\n",
    "\n",
    "\n",
    "@njit\n",
    "def get_greedy(v, model):\n",
    "    \"\"\" Get a v-greedy policy. \"\"\"\n",
    "    n, w_vals, φ, β, c = model\n",
    "    σ = w_vals / (1 - β) >= c + β * np.sum(v * φ)  # Boolean policy vector\n",
    "    return σ\n",
    "\n",
    "\n",
    "def vfi(model=default_model):\n",
    "    \"\"\" Solve the infinite-horizon IID job search model by VFI. \"\"\"\n",
    "    v_init = np.zeros_like(model.w_vals)\n",
    "    v_star = compute_fixed_point(lambda v: T(v, model), v_init,\n",
    "                                 error_tol=1e-5, max_iter=1000, print_skip=25)\n",
    "    σ_star = get_greedy(v_star, model)\n",
    "    return v_star, σ_star\n",
    "\n",
    "\n",
    "\n",
    "# == Plots == #\n",
    "\n",
    "import matplotlib.pyplot as plt\n",
    "import matplotlib.pyplot as plt\n",
    "\n",
    "plt.rcParams.update({\"text.usetex\": True, \"font.size\": 14})\n",
    "\n",
    "\n",
    "def fig_vseq(model=default_model,\n",
    "                k=3,\n",
    "                savefig=False,\n",
    "                figname=\"./figures/iid_job_search_1.pdf\",\n",
    "                fs=10):\n",
    "\n",
    "    v = np.zeros_like(model.w_vals)\n",
    "    fig, ax = plt.subplots(figsize=(9, 5.5))\n",
    "    for i in range(k):\n",
    "        ax.plot(model.w_vals, v, linewidth=3, alpha=0.6,\n",
    "                label=f\"iterate {i}\")\n",
    "        v = T(v, model)\n",
    "\n",
    "    for i in range(1000):\n",
    "        v = T(v, model)\n",
    "\n",
    "    ax.plot(model.w_vals, v, \"k-\", linewidth=3.0,\n",
    "            label=\"iterate 1000\", alpha=0.7)\n",
    "\n",
    "    fontdict = {'fontsize': fs}\n",
    "    ax.set_xlabel(\"wage offer\", fontdict=fontdict)\n",
    "    ax.set_ylabel(\"lifetime value\", fontdict=fontdict)\n",
    "\n",
    "    ax.legend(fontsize=fs, frameon=False)\n",
    "\n",
    "    if savefig:\n",
    "        fig.savefig(figname)\n",
    "\n",
    "\n",
    "def fig_vstar(model=default_model,\n",
    "              savefig=False, fs=10,\n",
    "              figname=\"./figures/iid_job_search_3.pdf\"):\n",
    "    \"\"\" Plot the fixed point. \"\"\"\n",
    "    n, w_vals, φ, β, c = model\n",
    "    v_star, σ_star = vfi(model)\n",
    "\n",
    "    fig, ax = plt.subplots(figsize=(9, 5.5))\n",
    "    ax.plot(w_vals, v_star, \"k-\", linewidth=1.5, label=\"value function\")\n",
    "    cont_val = c + β * np.sum(v_star * φ)\n",
    "    ax.plot(w_vals, [cont_val]*(n+1),\n",
    "            \"--\",\n",
    "            linewidth=5,\n",
    "            alpha=0.5,\n",
    "            label=\"continuation value\")\n",
    "\n",
    "    ax.plot(w_vals,\n",
    "            w_vals / (1 - β),\n",
    "            \"--\",\n",
    "            linewidth=5,\n",
    "            alpha=0.5,\n",
    "            label=r\"$w/(1 - \\beta)$\")\n",
    "\n",
    "    ax.legend(frameon=False, fontsize=fs, loc=\"lower right\")\n",
    "\n",
    "    if savefig:\n",
    "        fig.savefig(figname)\n"
   ]
  },
  {
   "cell_type": "code",
   "execution_count": 9,
   "id": "feec7db1",
   "metadata": {},
   "outputs": [
    {
     "data": {
      "image/png": "[encoded data removed]",
      "text/plain": [
       "<Figure size 900x550 with 1 Axes>"
      ]
     },
     "metadata": {},
     "output_type": "display_data"
    }
   ],
   "source": [
    "fig_vseq()"
   ]
  },
  {
   "cell_type": "code",
   "execution_count": 10,
   "id": "88e403bd",
   "metadata": {},
   "outputs": [
    {
     "name": "stdout",
     "output_type": "stream",
     "text": [
      "Iteration    Distance       Elapsed (seconds)\n",
      "---------------------------------------------\n",
      "23           9.192e-06      3.468e-03         \n",
      "Converged in 23 steps\n"
     ]
    },
    {
     "data": {
      "image/png": "[encoded data removed]",
      "text/plain": [
       "<Figure size 900x550 with 1 Axes>"
      ]
     },
     "metadata": {},
     "output_type": "display_data"
    }
   ],
   "source": [
    "fig_vstar()"
   ]
  }
 ],
 "metadata": {
  "jupytext": {
   "text_representation": {
    "extension": ".md",
    "format_name": "myst"
   }
  },
  "kernelspec": {
   "display_name": "Python 3",
   "language": "python",
   "name": "python3"
  },
  "language_info": {
   "codemirror_mode": {
    "name": "ipython",
    "version": 3
   },
   "file_extension": ".py",
   "mimetype": "text/x-python",
   "name": "python",
   "nbconvert_exporter": "python",
   "pygments_lexer": "ipython3",
   "version": "3.10.13"
  },
  "source_map": [
   10,
   30,
   137,
   139,
   141,
   154,
   156,
   184,
   186,
   214,
   216,
   246,
   248,
   296,
   298,
   409,
   413
  ]
 },
 "nbformat": 4,
 "nbformat_minor": 5
}