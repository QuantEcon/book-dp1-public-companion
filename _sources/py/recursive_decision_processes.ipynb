{
 "cells": [
  {
   "cell_type": "markdown",
   "id": "af34b033",
   "metadata": {},
   "source": [
    "(Chapter 8: Recursive Decision Processes)=\n",
    "```{raw} jupyter\n",
    "<div id=\"qe-notebook-header\" style=\"text-align:right;\">\n",
    "        <a href=\"https://quantecon.org/\" title=\"quantecon.org\">\n",
    "                <img style=\"width:250px;display:inline;\" src=\"https://assets.quantecon.org/img/qe-menubar-logo.svg\" alt=\"QuantEcon\">\n",
    "        </a>\n",
    "</div>\n",
    "```\n",
    "# Chapter 8: Recursive Decision Processes\n",
    "\n",
    "\n",
    "```{contents} Contents\n",
    ":depth: 2\n",
    "```\n",
    "\n",
    "\n",
    "\n",
    "## quantile_function.py"
   ]
  },
  {
   "cell_type": "code",
   "execution_count": null,
   "id": "2dbd5b0c",
   "metadata": {
    "tags": [
     "hide-input"
    ]
   },
   "outputs": [],
   "source": [
    "from scipy.stats import rv_discrete\n",
    "import numpy as np\n",
    "\n",
    "from numba import njit\n",
    "\n",
    "\"Compute the τ-th quantile of v(X) when X ∼ ϕ and v = sort(v).\"\n",
    "@njit\n",
    "def quantile(τ, v, ϕ):\n",
    "    for (i, v_value) in enumerate(v):\n",
    "        p = sum(ϕ[:i+1])  # sum all ϕ[j] s.t. v[j] ≤ v_value\n",
    "        if p >= τ:         # exit and return v_value if prob ≥ τ\n",
    "            return v_value\n",
    "\n",
    "\"For each i, compute the τ-th quantile of v(Y) when Y ∼ P(i, ⋅)\"\n",
    "def R(τ, v, P):\n",
    "    return np.array([quantile(τ, v, P[i, :]) for i in range(len(v))])\n",
    "\n",
    "def quantile_test(τ):\n",
    "    ϕ = [0.1, 0.2, 0.7]\n",
    "    v = [10, 20, 30]\n",
    "\n",
    "    #d = DiscreteNonParametric(v, ϕ)\n",
    "    d = rv_discrete(values=(v, ϕ))\n",
    "    return quantile(τ, v, ϕ), d.ppf(τ)\n",
    "    \n",
    "\n"
   ]
  },
  {
   "cell_type": "markdown",
   "id": "6621de51",
   "metadata": {},
   "source": [
    "## quantile_js.py"
   ]
  },
  {
   "cell_type": "code",
   "execution_count": null,
   "id": "c662863b",
   "metadata": {
    "tags": [
     "hide-input"
    ]
   },
   "outputs": [],
   "source": [
    "\"\"\"\n",
    "Job search with Markov wage draws and quantile preferences.\n",
    "\n",
    "\"\"\"\n",
    "from quantecon import tauchen, MarkovChain\n",
    "import numpy as np\n",
    "from quantile_function import *\n",
    "\n",
    "\"Creates an instance of the job search model.\"\n",
    "def create_markov_js_model(\n",
    "        n=100,       # wage grid size\n",
    "        ρ=0.9,       # wage persistence\n",
    "        ν=0.2,       # wage volatility\n",
    "        β=0.98,      # discount factor\n",
    "        c=1.0,       # unemployment compensation\n",
    "        τ=0.5        # quantile parameter\n",
    "    ):\n",
    "    mc = tauchen(n, ρ, ν)\n",
    "    w_vals, P = np.exp(mc.state_values), mc.P\n",
    "    return (n, w_vals, P, β, c, τ)\n",
    "\n",
    "\"\"\"\n",
    "The policy operator \n",
    "\n",
    "    (T_σ v)(w) = σ(w) (w / (1-β)) + (1 - σ(w))(c + β (R_τ v)(w))\n",
    "\n",
    "\"\"\"\n",
    "def T_σ(v, σ, model):\n",
    "    n, w_vals, P, β, c, τ = model\n",
    "    h = [x + c for x in β * R(τ, v, P)]\n",
    "    e = w_vals / (1 - β)\n",
    "    return σ * e + (1 - σ) * h\n",
    "\n",
    "\" Get a v-greedy policy.\"\n",
    "def get_greedy(v, model):\n",
    "    n, w_vals, P, β, c, τ = model\n",
    "    σ = w_vals / (1 - β) >= c + β * R(τ, v, P)\n",
    "    return σ\n",
    "\n",
    "\n",
    "\"Optimistic policy iteration routine.\"\n",
    "def optimistic_policy_iteration(model, tolerance=1e-5, m=100):\n",
    "    n, w_vals, P, β, c, τ = model\n",
    "    v = np.ones(n)\n",
    "    error = tolerance + 1\n",
    "    while error > tolerance:\n",
    "        last_v = v\n",
    "        σ = get_greedy(v, model)\n",
    "        for i in range(m):\n",
    "            v = T_σ(v, σ, model)\n",
    "        \n",
    "        error = max(np.abs(v - last_v))\n",
    "        print(f\"OPI current error = {error}\")\n",
    "    \n",
    "    return v, get_greedy(v, model)\n",
    "\n",
    "\n",
    "# == Plots == #\n",
    "\n",
    "import matplotlib.pyplot as plt\n",
    "import matplotlib.pyplot as plt\n",
    "\n",
    "plt.rcParams.update({\"text.usetex\": True, \"font.size\": 14})\n",
    "\n",
    "\n",
    "def plot_main(tau_vals=(0.1, 0.25, 0.5, 0.6, 0.7, 0.8), \n",
    "                     savefig=False, \n",
    "                     figname=\"figures/quantile_js.pdf\"):\n",
    "\n",
    "    w_star_vals = np.zeros(len(tau_vals))\n",
    "\n",
    "    for (τ_idx, τ) in enumerate(tau_vals):\n",
    "        model = create_markov_js_model(τ=τ)\n",
    "        n, w_vals, P, β, c, τ = model\n",
    "        v_star, σ_star = optimistic_policy_iteration(model)\n",
    "        for i in range(n):\n",
    "            if σ_star[i] > 0:\n",
    "                w_star_vals[τ_idx] = w_vals[i]\n",
    "                break\n",
    "\n",
    "    model = create_markov_js_model()\n",
    "    n, w_vals, P, β, c, τ = model\n",
    "    mc = MarkovChain(P)\n",
    "    s = mc.stationary_distributions[0]\n",
    "\n",
    "    fig, ax = plt.subplots()\n",
    "    ax.plot(tau_vals, w_star_vals, \"k--\", lw=2, alpha=0.7, label=\"reservation wage\")\n",
    "    ax.barh(w_vals, 32 * s, alpha=0.05, align=\"center\")\n",
    "    ax.legend(frameon=False, loc=\"upper center\")\n",
    "    ax.set_xlabel(\"quantile\")\n",
    "    ax.set_ylabel(\"wages\")\n",
    "\n",
    "    if savefig:\n",
    "        fig.savefig(figname)\n"
   ]
  },
  {
   "cell_type": "code",
   "execution_count": null,
   "id": "10fa8d9d",
   "metadata": {},
   "outputs": [],
   "source": [
    "plot_main()"
   ]
  }
 ],
 "metadata": {
  "jupytext": {
   "text_representation": {
    "extension": ".md",
    "format_name": "myst"
   }
  },
  "kernelspec": {
   "display_name": "Python 3",
   "language": "python",
   "name": "python3"
  },
  "source_map": [
   10,
   30,
   60,
   62,
   162
  ]
 },
 "nbformat": 4,
 "nbformat_minor": 5
}