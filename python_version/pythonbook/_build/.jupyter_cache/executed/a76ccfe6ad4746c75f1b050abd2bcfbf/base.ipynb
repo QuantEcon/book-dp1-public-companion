{
 "cells": [
  {
   "cell_type": "code",
   "execution_count": 1,
   "id": "a35f56f3",
   "metadata": {
    "tags": [
     "hide-input"
    ]
   },
   "outputs": [],
   "source": [
    "from scipy.stats import rv_discrete\n",
    "import numpy as np\n",
    "\n",
    "from numba import njit\n",
    "\n",
    "\"Compute the τ-th quantile of v(X) when X ∼ ϕ and v = sort(v).\"\n",
    "@njit\n",
    "def quantile(τ, v, ϕ):\n",
    "    for (i, v_value) in enumerate(v):\n",
    "        p = sum(ϕ[:i+1])  # sum all ϕ[j] s.t. v[j] ≤ v_value\n",
    "        if p >= τ:         # exit and return v_value if prob ≥ τ\n",
    "            return v_value\n",
    "\n",
    "\"For each i, compute the τ-th quantile of v(Y) when Y ∼ P(i, ⋅)\"\n",
    "def R(τ, v, P):\n",
    "    return np.array([quantile(τ, v, P[i, :]) for i in range(len(v))])\n",
    "\n",
    "def quantile_test(τ):\n",
    "    ϕ = [0.1, 0.2, 0.7]\n",
    "    v = [10, 20, 30]\n",
    "\n",
    "    #d = DiscreteNonParametric(v, ϕ)\n",
    "    d = rv_discrete(values=(v, ϕ))\n",
    "    return quantile(τ, v, ϕ), d.ppf(τ)\n",
    "    \n",
    "\n"
   ]
  },
  {
   "cell_type": "code",
   "execution_count": 2,
   "id": "0174a333",
   "metadata": {
    "tags": [
     "hide-input"
    ]
   },
   "outputs": [],
   "source": [
    "\"\"\"\n",
    "Job search with Markov wage draws and quantile preferences.\n",
    "\n",
    "\"\"\"\n",
    "from quantecon import tauchen, MarkovChain\n",
    "import numpy as np\n",
    "from quantile_function import *\n",
    "\n",
    "\"Creates an instance of the job search model.\"\n",
    "def create_markov_js_model(\n",
    "        n=100,       # wage grid size\n",
    "        ρ=0.9,       # wage persistence\n",
    "        ν=0.2,       # wage volatility\n",
    "        β=0.98,      # discount factor\n",
    "        c=1.0,       # unemployment compensation\n",
    "        τ=0.5        # quantile parameter\n",
    "    ):\n",
    "    mc = tauchen(n, ρ, ν)\n",
    "    w_vals, P = np.exp(mc.state_values), mc.P\n",
    "    return (n, w_vals, P, β, c, τ)\n",
    "\n",
    "\"\"\"\n",
    "The policy operator \n",
    "\n",
    "    (T_σ v)(w) = σ(w) (w / (1-β)) + (1 - σ(w))(c + β (R_τ v)(w))\n",
    "\n",
    "\"\"\"\n",
    "def T_σ(v, σ, model):\n",
    "    n, w_vals, P, β, c, τ = model\n",
    "    h = [x + c for x in β * R(τ, v, P)]\n",
    "    e = w_vals / (1 - β)\n",
    "    return σ * e + (1 - σ) * h\n",
    "\n",
    "\" Get a v-greedy policy.\"\n",
    "def get_greedy(v, model):\n",
    "    n, w_vals, P, β, c, τ = model\n",
    "    σ = w_vals / (1 - β) >= c + β * R(τ, v, P)\n",
    "    return σ\n",
    "\n",
    "\n",
    "\"Optimistic policy iteration routine.\"\n",
    "def optimistic_policy_iteration(model, tolerance=1e-5, m=100):\n",
    "    n, w_vals, P, β, c, τ = model\n",
    "    v = np.ones(n)\n",
    "    error = tolerance + 1\n",
    "    while error > tolerance:\n",
    "        last_v = v\n",
    "        σ = get_greedy(v, model)\n",
    "        for i in range(m):\n",
    "            v = T_σ(v, σ, model)\n",
    "        \n",
    "        error = max(np.abs(v - last_v))\n",
    "        print(f\"OPI current error = {error}\")\n",
    "    \n",
    "    return v, get_greedy(v, model)\n",
    "\n",
    "\n",
    "# == Plots == #\n",
    "\n",
    "import matplotlib.pyplot as plt\n",
    "import matplotlib.pyplot as plt\n",
    "\n",
    "plt.rcParams.update({\"text.usetex\": True, \"font.size\": 14})\n",
    "\n",
    "\n",
    "def plot_main(tau_vals=(0.1, 0.25, 0.5, 0.6, 0.7, 0.8), \n",
    "                     savefig=False, \n",
    "                     figname=\"../figures/quantile_js.pdf\"):\n",
    "\n",
    "    w_star_vals = np.zeros(len(tau_vals))\n",
    "\n",
    "    for (τ_idx, τ) in enumerate(tau_vals):\n",
    "        model = create_markov_js_model(τ=τ)\n",
    "        n, w_vals, P, β, c, τ = model\n",
    "        v_star, σ_star = optimistic_policy_iteration(model)\n",
    "        for i in range(n):\n",
    "            if σ_star[i] > 0:\n",
    "                w_star_vals[τ_idx] = w_vals[i]\n",
    "                break\n",
    "\n",
    "    model = create_markov_js_model()\n",
    "    n, w_vals, P, β, c, τ = model\n",
    "    mc = MarkovChain(P)\n",
    "    s = mc.stationary_distributions[0]\n",
    "\n",
    "    fig, ax = plt.subplots()\n",
    "    ax.plot(tau_vals, w_star_vals, \"k--\", lw=2, alpha=0.7, label=\"reservation wage\")\n",
    "    ax.barh(w_vals, 32 * s, alpha=0.05, align=\"center\")\n",
    "    ax.legend(frameon=False, loc=\"upper center\")\n",
    "    ax.set_xlabel(\"quantile\")\n",
    "    ax.set_ylabel(\"wages\")\n",
    "\n",
    "    if savefig:\n",
    "        fig.savefig(figname)\n"
   ]
  },
  {
   "cell_type": "code",
   "execution_count": 3,
   "id": "421b47aa",
   "metadata": {},
   "outputs": [
    {
     "name": "stdout",
     "output_type": "stream",
     "text": [
      "OPI current error = 197.04958104222322\n",
      "OPI current error = 32.41999066047552\n",
      "OPI current error = 35.62127408582426\n",
      "OPI current error = 34.1446640510786\n",
      "OPI current error = 31.357190366860497\n",
      "OPI current error = 27.984260985215176\n",
      "OPI current error = 23.254898512652094\n",
      "OPI current error = 16.591569430034006\n",
      "OPI current error = 7.09109988950496\n",
      "OPI current error = 3.102226038720346e-06\n",
      "OPI current error = 197.04958104222322\n",
      "OPI current error = 32.41999066047552\n",
      "OPI current error = 29.678936943622382\n",
      "OPI current error = 29.093921296620483\n",
      "OPI current error = 27.974814794615806\n",
      "OPI current error = 26.72531111677077\n",
      "OPI current error = 25.39554124988487\n"
     ]
    },
    {
     "name": "stdout",
     "output_type": "stream",
     "text": [
      "OPI current error = 23.255076254919008\n",
      "OPI current error = 20.92822560847147\n",
      "OPI current error = 18.39891195068428\n",
      "OPI current error = 14.680917085664738\n",
      "OPI current error = 10.525484762612273\n",
      "OPI current error = 5.881149036250456\n",
      "OPI current error = 9.59630597208161e-10\n",
      "OPI current error = 197.04958104222322\n",
      "OPI current error = 36.59694294236868\n",
      "OPI current error = 0.676518038229375\n",
      "OPI current error = 0.08971952178475817\n",
      "OPI current error = 0.011898563134202789\n",
      "OPI current error = 0.001577982158643465\n",
      "OPI current error = 0.00020927129308034864\n",
      "OPI current error = 2.7753465943192168e-05\n"
     ]
    },
    {
     "name": "stdout",
     "output_type": "stream",
     "text": [
      "OPI current error = 3.6806523482368902e-06\n",
      "OPI current error = 197.04958104222322\n",
      "OPI current error = 51.40389833249008\n",
      "OPI current error = 0.0\n",
      "OPI current error = 197.04958104222322\n",
      "OPI current error = 82.51356008425164\n",
      "OPI current error = 0.0\n",
      "OPI current error = 197.04958104222322\n",
      "OPI current error = 133.14095588610522\n",
      "OPI current error = 0.0\n"
     ]
    },
    {
     "data": {
      "image/png": "[encoded data removed]",
      "text/plain": [
       "<Figure size 640x480 with 1 Axes>"
      ]
     },
     "metadata": {},
     "output_type": "display_data"
    }
   ],
   "source": [
    "plot_main(savefig=True)"
   ]
  }
 ],
 "metadata": {
  "jupytext": {
   "text_representation": {
    "extension": ".md",
    "format_name": "myst"
   }
  },
  "kernelspec": {
   "display_name": "Python 3",
   "language": "python",
   "name": "python3"
  },
  "language_info": {
   "codemirror_mode": {
    "name": "ipython",
    "version": 3
   },
   "file_extension": ".py",
   "mimetype": "text/x-python",
   "name": "python",
   "nbconvert_exporter": "python",
   "pygments_lexer": "ipython3",
   "version": "3.11.4"
  },
  "source_map": [
   10,
   30,
   60,
   62,
   162
  ]
 },
 "nbformat": 4,
 "nbformat_minor": 5
}