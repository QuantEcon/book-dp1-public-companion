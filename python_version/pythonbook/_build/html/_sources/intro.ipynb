{
 "cells": [
  {
   "cell_type": "markdown",
   "id": "42d112eb",
   "metadata": {},
   "source": [
    "# Dynamic Programming\n",
    "\n",
    "This website presents a set of lectures on dynamic programming and its applications in economics, finance, and adjacent fields like operations research, designed and written by [Thomas J. Sargent](http://www.tomsargent.com/) and [John Stachurski](http://johnstachurski.net/). The language of instruction is Python.\n",
    "\n",
    "```{tableofcontents}\n",
    "```"
   ]
  }
 ],
 "metadata": {
  "jupytext": {
   "text_representation": {
    "extension": ".md",
    "format_name": "myst"
   }
  },
  "kernelspec": {
   "display_name": "Python 3",
   "language": "python",
   "name": "python3"
  },
  "language_info": {
   "codemirror_mode": {
    "name": "ipython",
    "version": 3
   },
   "file_extension": ".py",
   "mimetype": "text/x-python",
   "name": "python",
   "nbconvert_exporter": "python",
   "pygments_lexer": "ipython3",
   "version": "3.11.4"
  },
  "source_map": [
   10
  ]
 },
 "nbformat": 4,
 "nbformat_minor": 5
}